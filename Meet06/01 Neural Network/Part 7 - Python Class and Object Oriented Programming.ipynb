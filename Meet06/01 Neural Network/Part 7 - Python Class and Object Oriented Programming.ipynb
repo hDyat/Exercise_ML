{
 "cells": [
  {
   "cell_type": "code",
   "execution_count": 2,
   "id": "4298f2d6",
   "metadata": {},
   "outputs": [],
   "source": [
    "import torch\n",
    "from torch import nn"
   ]
  },
  {
   "cell_type": "code",
   "execution_count": 3,
   "id": "1f9dc00f",
   "metadata": {},
   "outputs": [],
   "source": [
    "??nn.Module"
   ]
  },
  {
   "cell_type": "code",
   "execution_count": 10,
   "id": "4e354036",
   "metadata": {},
   "outputs": [],
   "source": [
    "class CustomNN(nn.Module):\n",
    "    def __init__(self, input_size, output_size):\n",
    "        super().__init__()\n",
    "        self.fc = nn.Sequential(\n",
    "            nn.Linear(input_size, 16),\n",
    "            nn.ReLU(),\n",
    "            nn.Linear(16,8),\n",
    "            nn.ReLU(),\n",
    "            nn.Linear(8, output_size),\n",
    "            nn.Sigmoid()\n",
    "        )\n",
    "        \n",
    "    def forward(self, x):\n",
    "        return self.fc(x)"
   ]
  },
  {
   "cell_type": "code",
   "execution_count": 11,
   "id": "2bcd8bb2",
   "metadata": {},
   "outputs": [],
   "source": [
    "class FaceBiometric(nn.Module):\n",
    "    def __init__(self, input_size, output_size):\n",
    "        super().__init__()\n",
    "        self.fc = nn.Sequential(\n",
    "            nn.Linear(input_size, 16),\n",
    "            nn.ReLU()\n",
    "        )\n",
    "        \n",
    "        self.reg = nn.Linear(16,4)\n",
    "        self.clf = nn.Sequential(\n",
    "            nn.Linear(16,4),\n",
    "            nn.Sigmoid()\n",
    "        )\n",
    "        \n",
    "    def forward(self, x):\n",
    "        x = self.fc(x)\n",
    "        pred_reg = self.reg(x)\n",
    "        pred_clf = self.clf(x)\n",
    "        return pred_reg, pred_clf"
   ]
  },
  {
   "cell_type": "code",
   "execution_count": 12,
   "id": "045d3b02",
   "metadata": {},
   "outputs": [],
   "source": [
    "model = CustomNN(7, 1)"
   ]
  },
  {
   "cell_type": "code",
   "execution_count": 13,
   "id": "6049473b",
   "metadata": {},
   "outputs": [],
   "source": [
    "contoh_data = torch.rand(100, 7)"
   ]
  },
  {
   "cell_type": "code",
   "execution_count": 14,
   "id": "7f70c53d",
   "metadata": {},
   "outputs": [
    {
     "data": {
      "text/plain": [
       "tensor([[0.5341],\n",
       "        [0.5360],\n",
       "        [0.5308],\n",
       "        [0.5294],\n",
       "        [0.5314],\n",
       "        [0.5341],\n",
       "        [0.5254],\n",
       "        [0.5316],\n",
       "        [0.5284],\n",
       "        [0.5293],\n",
       "        [0.5315],\n",
       "        [0.5318],\n",
       "        [0.5322],\n",
       "        [0.5349],\n",
       "        [0.5247],\n",
       "        [0.5307],\n",
       "        [0.5283],\n",
       "        [0.5306],\n",
       "        [0.5315],\n",
       "        [0.5309],\n",
       "        [0.5279],\n",
       "        [0.5317],\n",
       "        [0.5284],\n",
       "        [0.5344],\n",
       "        [0.5312],\n",
       "        [0.5273],\n",
       "        [0.5310],\n",
       "        [0.5384],\n",
       "        [0.5295],\n",
       "        [0.5316],\n",
       "        [0.5330],\n",
       "        [0.5384],\n",
       "        [0.5302],\n",
       "        [0.5270],\n",
       "        [0.5278],\n",
       "        [0.5343],\n",
       "        [0.5297],\n",
       "        [0.5276],\n",
       "        [0.5356],\n",
       "        [0.5310],\n",
       "        [0.5308],\n",
       "        [0.5309],\n",
       "        [0.5282],\n",
       "        [0.5313],\n",
       "        [0.5305],\n",
       "        [0.5306],\n",
       "        [0.5355],\n",
       "        [0.5404],\n",
       "        [0.5318],\n",
       "        [0.5264],\n",
       "        [0.5289],\n",
       "        [0.5345],\n",
       "        [0.5312],\n",
       "        [0.5268],\n",
       "        [0.5334],\n",
       "        [0.5327],\n",
       "        [0.5280],\n",
       "        [0.5300],\n",
       "        [0.5326],\n",
       "        [0.5413],\n",
       "        [0.5349],\n",
       "        [0.5310],\n",
       "        [0.5363],\n",
       "        [0.5320],\n",
       "        [0.5269],\n",
       "        [0.5313],\n",
       "        [0.5278],\n",
       "        [0.5342],\n",
       "        [0.5401],\n",
       "        [0.5313],\n",
       "        [0.5265],\n",
       "        [0.5301],\n",
       "        [0.5307],\n",
       "        [0.5298],\n",
       "        [0.5350],\n",
       "        [0.5291],\n",
       "        [0.5360],\n",
       "        [0.5289],\n",
       "        [0.5331],\n",
       "        [0.5328],\n",
       "        [0.5316],\n",
       "        [0.5302],\n",
       "        [0.5302],\n",
       "        [0.5371],\n",
       "        [0.5355],\n",
       "        [0.5351],\n",
       "        [0.5302],\n",
       "        [0.5281],\n",
       "        [0.5288],\n",
       "        [0.5320],\n",
       "        [0.5253],\n",
       "        [0.5333],\n",
       "        [0.5301],\n",
       "        [0.5336],\n",
       "        [0.5308],\n",
       "        [0.5303],\n",
       "        [0.5326],\n",
       "        [0.5357],\n",
       "        [0.5330],\n",
       "        [0.5298]], grad_fn=<SigmoidBackward0>)"
      ]
     },
     "execution_count": 14,
     "metadata": {},
     "output_type": "execute_result"
    }
   ],
   "source": [
    "model(contoh_data)"
   ]
  },
  {
   "cell_type": "code",
   "execution_count": null,
   "id": "9e197375",
   "metadata": {},
   "outputs": [],
   "source": []
  }
 ],
 "metadata": {
  "kernelspec": {
   "display_name": "Python [conda env:.conda-jcopdl]",
   "language": "python",
   "name": "conda-env-.conda-jcopdl-py"
  },
  "language_info": {
   "codemirror_mode": {
    "name": "ipython",
    "version": 3
   },
   "file_extension": ".py",
   "mimetype": "text/x-python",
   "name": "python",
   "nbconvert_exporter": "python",
   "pygments_lexer": "ipython3",
   "version": "3.9.10"
  }
 },
 "nbformat": 4,
 "nbformat_minor": 5
}
