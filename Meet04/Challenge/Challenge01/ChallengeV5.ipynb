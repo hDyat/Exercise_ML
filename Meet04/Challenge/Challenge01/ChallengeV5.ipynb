{
 "cells": [
  {
   "cell_type": "markdown",
   "metadata": {},
   "source": [
    "## Challenge01 - Graduate Admission Prediction\n",
    "\n",
    "Your task is to predict Graduate Admissions for students. The application being considered is for admission to a Master’s program.\n",
    "\n",
    "### Nomenklatur\n",
    "\n",
    "```\n",
    "| ID                  |  indeks penomoran mahasiswa\n",
    "| GRE                 |  Nilai tes GRE (maks 340)\n",
    "| TOEFL               |  Nilai tes TOEFL (maks 120)\n",
    "| University_Rating   |  Rating universitas (maks 5)\n",
    "| SOP                 |  Kualitas Statement of Purpose (maks 5)\n",
    "| LOR                 |  Kualitas Surat Rekomendasi (maks 5)\n",
    "| CGPA                |  IPK (maks 10)\n",
    "| Research            |  0: tidak berpengalaman \n",
    "|                     |  1: berpengalaman dalam riset\n",
    "| Chance_of_Admit     |  Kesempatan diterima (0 sampai 1)\n",
    "```\n",
    "Catatan: Nilai tes dan IPK masih dalam format lama\n",
    "\n",
    "\n",
    "### Tasks\n",
    "<div class=\"alert alert-block alert-danger\">\n",
    "    🚫 <b> Restriction:</b> Please refrain from using <b>ChatGPT</b> to complete this exercise, as doing so may hinder your learning experience.\n",
    "</div>\n",
    "Saya sudah mempersiapkan 2 file, yaitu **train.csv** dan **test.csv**\n",
    "- **train.csv** berisi data yang telah dilabeli (ada `X` dan `y`)\n",
    "- **test.csv** tidak memiliki label (hanya `X`)\n",
    "\n",
    "Tugas kamu adalah untuk memprediksi `Chance_of_Admit` dari seluruh mahasiswa di **test.csv** seperti gambar di bawah ini\n",
    "![Instruksi](./assets/instruksi.png)\n",
    "\n",
    "\n",
    "### Submission\n",
    "\n",
    "Hasil prediksi harus disusun dalam format sebagai berikut\n",
    "```\n",
    "|  ID | Chance_of_Admit |\n",
    "------------------------\n",
    "| 362 |   <prediksi>    |\n",
    "|  74 |   <prediksi>    |\n",
    "| 375 |   <prediksi>    |\n",
    "| ... |   __________    |\n",
    "| ... |   __________    |\n",
    "```\n",
    "dan di save dalam format **.csv** dengan nama file **nama__versi.csv**. Misalnya `jennie__v1.csv`.\n",
    "\n",
    "Apabila kamu kesulitan untuk membuat format tersebut, silahkan gunakan snippet berikut\n",
    "\n",
    "\n",
    "```python\n",
    "def submit(model, filename=\"jennie__v1.csv\"):\n",
    "    df_submit = pd.read_csv(\"data/test.csv\", index_col=\"ID\")\n",
    "    df_submit['Chance_of_Admit'] = model.predict(df_submit)\n",
    "    df_submit[['Chance_of_Admit']].to_csv(filename, index_label='ID')\n",
    "```\n",
    "\n",
    "Kirimkan **nama__versi.csv** ke saya, via email/chat/etc.\\\n",
    "**Public leaderboard** akan saya update minimal 1x/hari, maklum masih hitung manual.\\\n",
    "**Private leaderboard** akan saya umumkan di Meet 05. Hasil tertinggi di private board akan mendapatkan sesuatu yg menarik dari saya.\n",
    "\n",
    "\n",
    "### Penilaian\n",
    "- Hanya **submission terakhir** yang akan digunakan untuk penilaian\n",
    "- Model akan dinilai berdasarkan **R-squared**\n",
    "- **Public score** hanyalah score terhadap **50% dari test.csv**\n",
    "- **Private score** menggunakan **semua test.csv**\n",
    "\n",
    "### Hint\n",
    "- Lakukan submission berkali-kali dan manfaatkan hasil dari public score sebagai insight\n",
    "- Jangan lupa versioning agar kamu bisa submit model terbaik di akhir\n",
    "- Start with simple model. Manfaatkan workflow 4 fasa sebelum melakukan feature engineering yang lebih kompleks.\n",
    "- Kamu bebas memilih besarnya test size, cross-validation fold, bahkan random state\n",
    "- Kamu bebas memilih preprocessor yang akan digunakan untuk masing-masing fitur\n",
    "- Kamu bebas memilih algoritma machine learning yang ingin dipakai\n",
    "- Kamu bebas memilih teknik parameter search yang ingin dipakai\n",
    "- Kalau ada waktu lebih, coba lakukan evaluasi seperti residual plot"
   ]
  },
  {
   "cell_type": "code",
   "execution_count": 1,
   "metadata": {},
   "outputs": [
    {
     "name": "stderr",
     "output_type": "stream",
     "text": [
      "C:\\Users\\nurulhid\\.conda\\envs\\jcopml\\lib\\site-packages\\xgboost\\compat.py:36: FutureWarning: pandas.Int64Index is deprecated and will be removed from pandas in a future version. Use pandas.Index with the appropriate dtype instead.\n",
      "  from pandas import MultiIndex, Int64Index\n"
     ]
    }
   ],
   "source": [
    "import numpy as np\n",
    "import pandas as pd\n",
    "\n",
    "from sklearn.model_selection import train_test_split\n",
    "from sklearn.pipeline import Pipeline\n",
    "from sklearn.compose import ColumnTransformer\n",
    "\n",
    "from jcopml.pipeline import num_pipe, cat_pipe\n",
    "from jcopml.utils import save_model, load_model\n",
    "from jcopml.plot import plot_missing_value\n",
    "from jcopml.feature_importance import mean_score_decrease\n",
    "\n",
    "filename = \"yayat_v5.csv\";"
   ]
  },
  {
   "cell_type": "markdown",
   "metadata": {},
   "source": [
    "### Import Data "
   ]
  },
  {
   "cell_type": "code",
   "execution_count": 2,
   "metadata": {},
   "outputs": [
    {
     "data": {
      "text/html": [
       "<div>\n",
       "<style scoped>\n",
       "    .dataframe tbody tr th:only-of-type {\n",
       "        vertical-align: middle;\n",
       "    }\n",
       "\n",
       "    .dataframe tbody tr th {\n",
       "        vertical-align: top;\n",
       "    }\n",
       "\n",
       "    .dataframe thead th {\n",
       "        text-align: right;\n",
       "    }\n",
       "</style>\n",
       "<table border=\"1\" class=\"dataframe\">\n",
       "  <thead>\n",
       "    <tr style=\"text-align: right;\">\n",
       "      <th></th>\n",
       "      <th>ID</th>\n",
       "      <th>GRE</th>\n",
       "      <th>TOEFL</th>\n",
       "      <th>University_Rating</th>\n",
       "      <th>SOP</th>\n",
       "      <th>LOR</th>\n",
       "      <th>CGPA</th>\n",
       "      <th>Research</th>\n",
       "      <th>Chance_of_Admit</th>\n",
       "    </tr>\n",
       "  </thead>\n",
       "  <tbody>\n",
       "    <tr>\n",
       "      <th>0</th>\n",
       "      <td>250</td>\n",
       "      <td>321</td>\n",
       "      <td>111</td>\n",
       "      <td>3</td>\n",
       "      <td>3.5</td>\n",
       "      <td>4.0</td>\n",
       "      <td>8.83</td>\n",
       "      <td>1</td>\n",
       "      <td>0.77</td>\n",
       "    </tr>\n",
       "    <tr>\n",
       "      <th>1</th>\n",
       "      <td>434</td>\n",
       "      <td>316</td>\n",
       "      <td>111</td>\n",
       "      <td>4</td>\n",
       "      <td>4.0</td>\n",
       "      <td>5.0</td>\n",
       "      <td>8.54</td>\n",
       "      <td>0</td>\n",
       "      <td>0.71</td>\n",
       "    </tr>\n",
       "    <tr>\n",
       "      <th>2</th>\n",
       "      <td>20</td>\n",
       "      <td>303</td>\n",
       "      <td>102</td>\n",
       "      <td>3</td>\n",
       "      <td>3.5</td>\n",
       "      <td>3.0</td>\n",
       "      <td>8.50</td>\n",
       "      <td>0</td>\n",
       "      <td>0.62</td>\n",
       "    </tr>\n",
       "    <tr>\n",
       "      <th>3</th>\n",
       "      <td>323</td>\n",
       "      <td>314</td>\n",
       "      <td>107</td>\n",
       "      <td>2</td>\n",
       "      <td>2.5</td>\n",
       "      <td>4.0</td>\n",
       "      <td>8.27</td>\n",
       "      <td>0</td>\n",
       "      <td>0.72</td>\n",
       "    </tr>\n",
       "    <tr>\n",
       "      <th>4</th>\n",
       "      <td>333</td>\n",
       "      <td>308</td>\n",
       "      <td>106</td>\n",
       "      <td>3</td>\n",
       "      <td>3.5</td>\n",
       "      <td>2.5</td>\n",
       "      <td>8.21</td>\n",
       "      <td>1</td>\n",
       "      <td>0.75</td>\n",
       "    </tr>\n",
       "  </tbody>\n",
       "</table>\n",
       "</div>"
      ],
      "text/plain": [
       "    ID  GRE  TOEFL  University_Rating  SOP  LOR  CGPA  Research  \\\n",
       "0  250  321    111                  3  3.5  4.0  8.83         1   \n",
       "1  434  316    111                  4  4.0  5.0  8.54         0   \n",
       "2   20  303    102                  3  3.5  3.0  8.50         0   \n",
       "3  323  314    107                  2  2.5  4.0  8.27         0   \n",
       "4  333  308    106                  3  3.5  2.5  8.21         1   \n",
       "\n",
       "   Chance_of_Admit  \n",
       "0             0.77  \n",
       "1             0.71  \n",
       "2             0.62  \n",
       "3             0.72  \n",
       "4             0.75  "
      ]
     },
     "metadata": {},
     "output_type": "display_data"
    }
   ],
   "source": [
    "df = pd.read_csv(\"data/train.csv\")\n",
    "display(df.head())"
   ]
  },
  {
   "cell_type": "code",
   "execution_count": 3,
   "metadata": {},
   "outputs": [
    {
     "data": {
      "text/plain": [
       "((320, 8), (80, 8), (320,), (80,))"
      ]
     },
     "execution_count": 3,
     "metadata": {},
     "output_type": "execute_result"
    }
   ],
   "source": [
    "\n",
    "X = df.drop(columns=\"Chance_of_Admit\") ## all columns but target\n",
    "y = df.Chance_of_Admit ## target data\n",
    "\n",
    "X_train, X_test, y_train, y_test = train_test_split(X, y, test_size=0.2, random_state=42)\n",
    "X_train.shape, X_test.shape, y_train.shape, y_test.shape\n",
    "\n",
    "# X_train = df.drop(columns=\"Chance_of_Admit\") ## all columns but target\n",
    "# y_train = df.Chance_of_Admit ## target data\n",
    "\n",
    "# X_train.shape, y_train.shape"
   ]
  },
  {
   "cell_type": "code",
   "execution_count": 4,
   "metadata": {},
   "outputs": [
    {
     "name": "stderr",
     "output_type": "stream",
     "text": [
      "C:\\Users\\nurulhid\\.conda\\envs\\jcopml\\lib\\site-packages\\sklearn\\model_selection\\_search.py:292: UserWarning: The total space of parameters 12 is smaller than n_iter=50. Running 12 iterations. For exhaustive searches, use GridSearchCV.\n",
      "  warnings.warn(\n"
     ]
    },
    {
     "name": "stdout",
     "output_type": "stream",
     "text": [
      "Fitting 3 folds for each of 12 candidates, totalling 36 fits\n",
      "{'prep__numeric__poly__interaction_only': True, 'prep__numeric__poly__degree': 1, 'algo__fit_intercept': False}\n",
      "0.8207170673589578 0.820993658276096\n",
      "0.8327014839525168\n"
     ]
    },
    {
     "name": "stderr",
     "output_type": "stream",
     "text": [
      "C:\\Users\\nurulhid\\.conda\\envs\\jcopml\\lib\\site-packages\\sklearn\\preprocessing\\_data.py:3253: RuntimeWarning: divide by zero encountered in log\n",
      "  loglike = -n_samples / 2 * np.log(x_trans.var())\n"
     ]
    }
   ],
   "source": [
    "from jcopml.tuning import grid_search_params as gsp\n",
    "from sklearn.neighbors import KNeighborsRegressor\n",
    "from sklearn.model_selection import GridSearchCV\n",
    "from sklearn.model_selection import RandomizedSearchCV\n",
    "from sklearn.linear_model import LinearRegression\n",
    "\n",
    "preprocessor = ColumnTransformer([\n",
    "    (\"numeric\", num_pipe(poly=2, transform='yeo-johnson'), ['ID', 'GRE', 'TOEFL', 'University_Rating', 'SOP', 'LOR', 'CGPA']),\n",
    "    (\"categoric\", cat_pipe(encoder='onehot'), ['Research'])\n",
    "])\n",
    "\n",
    "pipeline = Pipeline([\n",
    "    (\"prep\", preprocessor),\n",
    "    (\"algo\", LinearRegression())\n",
    "])\n",
    "\n",
    "# model = RandomizedSearchCV(pipeline, gsp.linreg_poly_params, cv=3, n_jobs=-1, verbose=1)\n",
    "model = RandomizedSearchCV(pipeline, gsp.linreg_poly_params, cv=3, n_iter=50, n_jobs=-1, verbose=1, random_state=42)\n",
    "model.fit(X_train, y_train)\n",
    "\n",
    "print(model.best_params_)\n",
    "print(model.score(X_train, y_train), model.best_score_)\n",
    "print(model.score(X_test, y_test))"
   ]
  },
  {
   "cell_type": "code",
   "execution_count": 5,
   "metadata": {},
   "outputs": [],
   "source": [
    "def submit(model, filename):\n",
    "    df_submit = pd.read_csv(\"data/test.csv\")\n",
    "    df_submit['Chance_of_Admit'] = model.predict(df_submit)\n",
    "    df_submit[['Chance_of_Admit']].to_csv(filename)"
   ]
  },
  {
   "cell_type": "code",
   "execution_count": 6,
   "metadata": {},
   "outputs": [],
   "source": [
    "submit(model, filename)"
   ]
  },
  {
   "cell_type": "code",
   "execution_count": null,
   "metadata": {},
   "outputs": [],
   "source": []
  }
 ],
 "metadata": {
  "kernelspec": {
   "display_name": "Python [conda env:.conda-jcopml]",
   "language": "python",
   "name": "conda-env-.conda-jcopml-py"
  },
  "language_info": {
   "codemirror_mode": {
    "name": "ipython",
    "version": 3
   },
   "file_extension": ".py",
   "mimetype": "text/x-python",
   "name": "python",
   "nbconvert_exporter": "python",
   "pygments_lexer": "ipython3",
   "version": "3.9.0"
  }
 },
 "nbformat": 4,
 "nbformat_minor": 2
}
