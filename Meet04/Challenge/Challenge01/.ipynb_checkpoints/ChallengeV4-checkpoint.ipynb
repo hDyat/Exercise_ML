{
 "cells": [
  {
   "cell_type": "markdown",
   "metadata": {},
   "source": [
    "## Challenge01 - Graduate Admission Prediction\n",
    "\n",
    "Your task is to predict Graduate Admissions for students. The application being considered is for admission to a Master’s program.\n",
    "\n",
    "### Nomenklatur\n",
    "\n",
    "```\n",
    "| ID                  |  indeks penomoran mahasiswa\n",
    "| GRE                 |  Nilai tes GRE (maks 340)\n",
    "| TOEFL               |  Nilai tes TOEFL (maks 120)\n",
    "| University_Rating   |  Rating universitas (maks 5)\n",
    "| SOP                 |  Kualitas Statement of Purpose (maks 5)\n",
    "| LOR                 |  Kualitas Surat Rekomendasi (maks 5)\n",
    "| CGPA                |  IPK (maks 10)\n",
    "| Research            |  0: tidak berpengalaman \n",
    "|                     |  1: berpengalaman dalam riset\n",
    "| Chance_of_Admit     |  Kesempatan diterima (0 sampai 1)\n",
    "```\n",
    "Catatan: Nilai tes dan IPK masih dalam format lama\n",
    "\n",
    "\n",
    "### Tasks\n",
    "<div class=\"alert alert-block alert-danger\">\n",
    "    🚫 <b> Restriction:</b> Please refrain from using <b>ChatGPT</b> to complete this exercise, as doing so may hinder your learning experience.\n",
    "</div>\n",
    "Saya sudah mempersiapkan 2 file, yaitu **train.csv** dan **test.csv**\n",
    "- **train.csv** berisi data yang telah dilabeli (ada `X` dan `y`)\n",
    "- **test.csv** tidak memiliki label (hanya `X`)\n",
    "\n",
    "Tugas kamu adalah untuk memprediksi `Chance_of_Admit` dari seluruh mahasiswa di **test.csv** seperti gambar di bawah ini\n",
    "![Instruksi](./assets/instruksi.png)\n",
    "\n",
    "\n",
    "### Submission\n",
    "\n",
    "Hasil prediksi harus disusun dalam format sebagai berikut\n",
    "```\n",
    "|  ID | Chance_of_Admit |\n",
    "------------------------\n",
    "| 362 |   <prediksi>    |\n",
    "|  74 |   <prediksi>    |\n",
    "| 375 |   <prediksi>    |\n",
    "| ... |   __________    |\n",
    "| ... |   __________    |\n",
    "```\n",
    "dan di save dalam format **.csv** dengan nama file **nama__versi.csv**. Misalnya `jennie__v1.csv`.\n",
    "\n",
    "Apabila kamu kesulitan untuk membuat format tersebut, silahkan gunakan snippet berikut\n",
    "\n",
    "\n",
    "```python\n",
    "def submit(model, filename=\"jennie__v1.csv\"):\n",
    "    df_submit = pd.read_csv(\"data/test.csv\", index_col=\"ID\")\n",
    "    df_submit['Chance_of_Admit'] = model.predict(df_submit)\n",
    "    df_submit[['Chance_of_Admit']].to_csv(filename, index_label='ID')\n",
    "```\n",
    "\n",
    "Kirimkan **nama__versi.csv** ke saya, via email/chat/etc.\\\n",
    "**Public leaderboard** akan saya update minimal 1x/hari, maklum masih hitung manual.\\\n",
    "**Private leaderboard** akan saya umumkan di Meet 05. Hasil tertinggi di private board akan mendapatkan sesuatu yg menarik dari saya.\n",
    "\n",
    "\n",
    "### Penilaian\n",
    "- Hanya **submission terakhir** yang akan digunakan untuk penilaian\n",
    "- Model akan dinilai berdasarkan **R-squared**\n",
    "- **Public score** hanyalah score terhadap **50% dari test.csv**\n",
    "- **Private score** menggunakan **semua test.csv**\n",
    "\n",
    "### Hint\n",
    "- Lakukan submission berkali-kali dan manfaatkan hasil dari public score sebagai insight\n",
    "- Jangan lupa versioning agar kamu bisa submit model terbaik di akhir\n",
    "- Start with simple model. Manfaatkan workflow 4 fasa sebelum melakukan feature engineering yang lebih kompleks.\n",
    "- Kamu bebas memilih besarnya test size, cross-validation fold, bahkan random state\n",
    "- Kamu bebas memilih preprocessor yang akan digunakan untuk masing-masing fitur\n",
    "- Kamu bebas memilih algoritma machine learning yang ingin dipakai\n",
    "- Kamu bebas memilih teknik parameter search yang ingin dipakai\n",
    "- Kalau ada waktu lebih, coba lakukan evaluasi seperti residual plot"
   ]
  },
  {
   "cell_type": "code",
   "execution_count": null,
   "metadata": {},
   "outputs": [],
   "source": [
    "import numpy as np\n",
    "import pandas as pd\n",
    "\n",
    "from sklearn.model_selection import train_test_split\n",
    "from sklearn.pipeline import Pipeline\n",
    "from sklearn.compose import ColumnTransformer\n",
    "\n",
    "from jcopml.pipeline import num_pipe, cat_pipe\n",
    "from jcopml.utils import save_model, load_model\n",
    "from jcopml.plot import plot_missing_value\n",
    "from jcopml.feature_importance import mean_score_decrease\n",
    "\n",
    "filename = \"yayat_v4\";"
   ]
  },
  {
   "cell_type": "markdown",
   "metadata": {},
   "source": [
    "### Import Data "
   ]
  },
  {
   "cell_type": "code",
   "execution_count": null,
   "metadata": {},
   "outputs": [],
   "source": [
    "df = pd.read_csv(\"data/train.csv\")\n",
    "display(df.head())"
   ]
  },
  {
   "cell_type": "code",
   "execution_count": null,
   "metadata": {},
   "outputs": [],
   "source": [
    "\n",
    "# X = df.drop(columns=\"Chance_of_Admit\") ## all columns but target\n",
    "# y = df.Chance_of_Admit ## target data\n",
    "\n",
    "# X_train, X_test, y_train, y_test = train_test_split(X, y, test_size=0.2, random_state=42)\n",
    "# X_train.shape, X_test.shape, y_train.shape, y_test.shape\n",
    "\n",
    "X_train = df.drop(columns=\"Chance_of_Admit\") ## all columns but target\n",
    "y_train = df.Chance_of_Admit ## target data\n",
    "\n",
    "X_train.shape, y_train.shape"
   ]
  },
  {
   "cell_type": "code",
   "execution_count": null,
   "metadata": {},
   "outputs": [],
   "source": [
    "from jcopml.tuning import grid_search_params as gsp\n",
    "from sklearn.neighbors import KNeighborsRegressor\n",
    "from sklearn.model_selection import GridSearchCV\n",
    "from sklearn.model_selection import RandomizedSearchCV\n",
    "from sklearn.linear_model import LinearRegression\n",
    "\n",
    "preprocessor = ColumnTransformer([\n",
    "    (\"numeric\", num_pipe(poly=2), ['ID', 'GRE', 'TOEFL', 'University_Rating', 'SOP', 'LOR', 'CGPA']),\n",
    "    (\"categoric\", cat_pipe(encoder='onehot'), ['Research'])\n",
    "])\n",
    "\n",
    "pipeline = Pipeline([\n",
    "    (\"prep\", preprocessor),\n",
    "    (\"algo\", LinearRegression())\n",
    "])\n",
    "\n",
    "model = GridSearchCV(pipeline, gsp.linreg_poly_params, cv=3, n_jobs=-1, verbose=1)\n",
    "model.fit(X_train, y_train)\n",
    "\n",
    "print(model.best_params_)\n",
    "print(model.score(X_train, y_train), model.best_score_)\n",
    "# print(model.score(X_test, y_test))"
   ]
  },
  {
   "cell_type": "code",
   "execution_count": null,
   "metadata": {},
   "outputs": [],
   "source": [
    "def submit(model, filename):\n",
    "    df_submit = pd.read_csv(\"data/test.csv\")\n",
    "    df_submit['Chance_of_Admit'] = model.predict(df_submit)\n",
    "    df_submit[['Chance_of_Admit']].to_csv(filename)"
   ]
  },
  {
   "cell_type": "code",
   "execution_count": null,
   "metadata": {},
   "outputs": [],
   "source": [
    "submit(model)"
   ]
  },
  {
   "cell_type": "code",
   "execution_count": null,
   "metadata": {},
   "outputs": [],
   "source": []
  }
 ],
 "metadata": {
  "kernelspec": {
   "display_name": "Python [conda env:.conda-jcopml]",
   "language": "python",
   "name": "conda-env-.conda-jcopml-py"
  },
  "language_info": {
   "codemirror_mode": {
    "name": "ipython",
    "version": 3
   },
   "file_extension": ".py",
   "mimetype": "text/x-python",
   "name": "python",
   "nbconvert_exporter": "python",
   "pygments_lexer": "ipython3",
   "version": "3.9.0"
  }
 },
 "nbformat": 4,
 "nbformat_minor": 2
}
